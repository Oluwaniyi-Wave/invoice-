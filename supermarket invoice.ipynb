{
 "cells": [
  {
   "cell_type": "code",
   "execution_count": 6,
   "metadata": {},
   "outputs": [
    {
     "name": "stdout",
     "output_type": "stream",
     "text": [
      "Your Name:nyiy\n",
      "Enter Your email:saint@gmail.com\n",
      "Phone Number:12345678911\n",
      "\n",
      "\n",
      "\n",
      "\n",
      "\n",
      "\n",
      "item:gdgd\n",
      "amount:30\n",
      "Price:23\n",
      "another item?:yes\n",
      "item:rrrr\n",
      "amount:4\n",
      "Price:45\n",
      "another item?:no\n",
      "Total: 870\n",
      "Thanks for patronizing us\n"
     ]
    }
   ],
   "source": [
    "name=str(input('Your Name:'))\n",
    "x=input('Enter Your email:')\n",
    "number=str(input('Phone Number:'))\n",
    "\n",
    "# NUMBER VALIDATION\n",
    "\n",
    "if len (number) != 11:\n",
    "   print('Invalid')\n",
    "else:\n",
    "   print('')\n",
    "\n",
    "\n",
    "# EMAIL VALIDATION\n",
    "a=0\n",
    "y=len(x)\n",
    "dot=x.find(\".\")\n",
    "at=x.find(\"@\")\n",
    "for i in range(0,at):\n",
    "    if((x[i]>='a'and x[i]<='z')or(x[i]>='A' and x[i]<='Z')):\n",
    "        a=a+1\n",
    "    if(a>0 and at>0 and (dot-at)>1 and (dot+1)<y):\n",
    "        print(\"\")\n",
    "    else:\n",
    "        print(\"invalid Email\")\n",
    "        \n",
    "        \n",
    "        \n",
    "a=0\n",
    "tot=0\n",
    "b=0\n",
    "\n",
    "while True:\n",
    "    \n",
    "    item=input('item:')\n",
    "    amount=input('amount:')\n",
    "    a=int(amount)\n",
    "    price=int(input('Price:'))\n",
    "    b=price\n",
    "    tot+=a*b\n",
    "    nextitem=input('another item?:')\n",
    "    if nextitem == '':\n",
    "         print('choose between yes or no:')\n",
    "    if nextitem == 'no':\n",
    "         break\n",
    "\n",
    "print('Total:', tot)\n",
    "print(\"Thanks for patronizing us\")"
   ]
  },
  {
   "cell_type": "code",
   "execution_count": null,
   "metadata": {},
   "outputs": [],
   "source": []
  }
 ],
 "metadata": {
  "kernelspec": {
   "display_name": "Python 3",
   "language": "python",
   "name": "python3"
  },
  "language_info": {
   "codemirror_mode": {
    "name": "ipython",
    "version": 3
   },
   "file_extension": ".py",
   "mimetype": "text/x-python",
   "name": "python",
   "nbconvert_exporter": "python",
   "pygments_lexer": "ipython3",
   "version": "3.8.5"
  }
 },
 "nbformat": 4,
 "nbformat_minor": 4
}
